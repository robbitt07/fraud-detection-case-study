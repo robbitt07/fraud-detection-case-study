{
 "cells": [
  {
   "cell_type": "code",
   "execution_count": 1,
   "metadata": {
    "collapsed": false
   },
   "outputs": [
    {
     "name": "stdout",
     "output_type": "stream",
     "text": [
      "height has been deprecated.\n",
      "\n"
     ]
    }
   ],
   "source": [
    "from sklearn.externals import joblib\n",
    "from JSON_to_DF import *\n",
    "import pandas as pd\n",
    "import requests\n",
    "\n",
    "\n",
    "pd.set_option('display.height', 1000)\n",
    "pd.set_option('display.max_rows', 500)\n",
    "pd.set_option('display.max_columns', 500)\n",
    "pd.set_option('display.width', 1000)\n",
    "%matplotlib inline"
   ]
  },
  {
   "cell_type": "code",
   "execution_count": 2,
   "metadata": {
    "collapsed": false
   },
   "outputs": [
    {
     "name": "stderr",
     "output_type": "stream",
     "text": [
      "/Users/zachary/anaconda/lib/python2.7/site-packages/sklearn/cross_validation.py:44: DeprecationWarning: This module was deprecated in version 0.18 in favor of the model_selection module into which all the refactored classes and functions are moved. Also note that the interface of the new CV iterators are different from that of this module. This module will be removed in 0.20.\n",
      "  \"This module will be removed in 0.20.\", DeprecationWarning)\n",
      "/Users/zachary/anaconda/lib/python2.7/site-packages/sklearn/grid_search.py:43: DeprecationWarning: This module was deprecated in version 0.18 in favor of the model_selection module into which all the refactored classes and functions are moved. This module will be removed in 0.20.\n",
      "  DeprecationWarning)\n"
     ]
    }
   ],
   "source": [
    "clf = joblib.load('../zack_xgboost.pkl')\n"
   ]
  },
  {
   "cell_type": "code",
   "execution_count": 3,
   "metadata": {
    "collapsed": false
   },
   "outputs": [
    {
     "data": {
      "text/plain": [
       "dict"
      ]
     },
     "execution_count": 3,
     "metadata": {},
     "output_type": "execute_result"
    }
   ],
   "source": [
    "result = requests.get(\"http://galvanize-case-study-on-fraud.herokuapp.com/data_point\")\n",
    "json_ = result.json()\n",
    "type(json_)"
   ]
  },
  {
   "cell_type": "code",
   "execution_count": 4,
   "metadata": {
    "collapsed": false
   },
   "outputs": [],
   "source": [
    "query_df = pd.DataFrame.from_dict(json_,  orient='index')\n",
    "query_df = query_df.transpose()"
   ]
  },
  {
   "cell_type": "code",
   "execution_count": 5,
   "metadata": {
    "collapsed": false
   },
   "outputs": [
    {
     "data": {
      "text/html": [
       "<div>\n",
       "<table border=\"1\" class=\"dataframe\">\n",
       "  <thead>\n",
       "    <tr style=\"text-align: right;\">\n",
       "      <th></th>\n",
       "      <th>org_name</th>\n",
       "      <th>name_length</th>\n",
       "      <th>event_end</th>\n",
       "      <th>venue_latitude</th>\n",
       "      <th>event_published</th>\n",
       "      <th>user_type</th>\n",
       "      <th>channels</th>\n",
       "      <th>currency</th>\n",
       "      <th>org_desc</th>\n",
       "      <th>event_created</th>\n",
       "      <th>event_start</th>\n",
       "      <th>has_logo</th>\n",
       "      <th>email_domain</th>\n",
       "      <th>user_created</th>\n",
       "      <th>payee_name</th>\n",
       "      <th>payout_type</th>\n",
       "      <th>venue_name</th>\n",
       "      <th>sale_duration2</th>\n",
       "      <th>venue_address</th>\n",
       "      <th>approx_payout_date</th>\n",
       "      <th>org_twitter</th>\n",
       "      <th>gts</th>\n",
       "      <th>listed</th>\n",
       "      <th>ticket_types</th>\n",
       "      <th>org_facebook</th>\n",
       "      <th>num_order</th>\n",
       "      <th>user_age</th>\n",
       "      <th>body_length</th>\n",
       "      <th>description</th>\n",
       "      <th>object_id</th>\n",
       "      <th>venue_longitude</th>\n",
       "      <th>venue_country</th>\n",
       "      <th>previous_payouts</th>\n",
       "      <th>sale_duration</th>\n",
       "      <th>num_payouts</th>\n",
       "      <th>name</th>\n",
       "      <th>country</th>\n",
       "      <th>delivery_method</th>\n",
       "      <th>has_analytics</th>\n",
       "      <th>fb_published</th>\n",
       "      <th>venue_state</th>\n",
       "      <th>has_header</th>\n",
       "      <th>show_map</th>\n",
       "    </tr>\n",
       "  </thead>\n",
       "  <tbody>\n",
       "    <tr>\n",
       "      <th>0</th>\n",
       "      <td>The Mind Body Soul Project</td>\n",
       "      <td>14</td>\n",
       "      <td>1361419200</td>\n",
       "      <td>-27.4616</td>\n",
       "      <td>1.36047e+09</td>\n",
       "      <td>3</td>\n",
       "      <td>8</td>\n",
       "      <td>AUD</td>\n",
       "      <td>&lt;p&gt;The Mind Body Soul Project is a team of mot...</td>\n",
       "      <td>1360405380</td>\n",
       "      <td>1361413800</td>\n",
       "      <td>1</td>\n",
       "      <td>12weekmindbodysoul.com</td>\n",
       "      <td>1358377692</td>\n",
       "      <td></td>\n",
       "      <td>ACH</td>\n",
       "      <td>The Lightworkers Cottage</td>\n",
       "      <td>11</td>\n",
       "      <td>152 James Street</td>\n",
       "      <td>1361851200</td>\n",
       "      <td>0</td>\n",
       "      <td>56.7</td>\n",
       "      <td>y</td>\n",
       "      <td>[{u'event_id': 5466782, u'cost': 12.0, u'avail...</td>\n",
       "      <td>0</td>\n",
       "      <td>4</td>\n",
       "      <td>24</td>\n",
       "      <td>3220</td>\n",
       "      <td>&lt;p&gt;The Mind Body Soul Project Presents:&lt;/p&gt;\\r\\...</td>\n",
       "      <td>5466782</td>\n",
       "      <td>153.047</td>\n",
       "      <td></td>\n",
       "      <td>[{u'name': u'', u'created': u'2013-02-25 03:13...</td>\n",
       "      <td>11</td>\n",
       "      <td>0</td>\n",
       "      <td>Meditation 101</td>\n",
       "      <td>AU</td>\n",
       "      <td>0</td>\n",
       "      <td>0</td>\n",
       "      <td>0</td>\n",
       "      <td></td>\n",
       "      <td>0</td>\n",
       "      <td>1</td>\n",
       "    </tr>\n",
       "  </tbody>\n",
       "</table>\n",
       "</div>"
      ],
      "text/plain": [
       "                     org_name name_length   event_end venue_latitude event_published user_type channels currency                                           org_desc event_created event_start has_logo            email_domain user_created payee_name payout_type                venue_name sale_duration2     venue_address approx_payout_date org_twitter   gts listed                                       ticket_types org_facebook num_order user_age body_length                                        description object_id venue_longitude venue_country                                   previous_payouts sale_duration num_payouts            name country delivery_method has_analytics fb_published venue_state has_header show_map\n",
       "0  The Mind Body Soul Project          14  1361419200       -27.4616     1.36047e+09         3        8      AUD  <p>The Mind Body Soul Project is a team of mot...    1360405380  1361413800        1  12weekmindbodysoul.com   1358377692                    ACH  The Lightworkers Cottage             11  152 James Street         1361851200           0  56.7      y  [{u'event_id': 5466782, u'cost': 12.0, u'avail...            0         4       24        3220  <p>The Mind Body Soul Project Presents:</p>\\r\\...   5466782         153.047                [{u'name': u'', u'created': u'2013-02-25 03:13...            11           0  Meditation 101      AU               0             0            0                      0        1"
      ]
     },
     "execution_count": 5,
     "metadata": {},
     "output_type": "execute_result"
    }
   ],
   "source": [
    "query_df.head()"
   ]
  },
  {
   "cell_type": "code",
   "execution_count": null,
   "metadata": {
    "collapsed": false
   },
   "outputs": [],
   "source": []
  },
  {
   "cell_type": "code",
   "execution_count": 6,
   "metadata": {
    "collapsed": false
   },
   "outputs": [
    {
     "name": "stderr",
     "output_type": "stream",
     "text": [
      "JSON_to_DF.py:39: SettingWithCopyWarning: \n",
      "A value is trying to be set on a copy of a slice from a DataFrame.\n",
      "Try using .loc[row_indexer,col_indexer] = value instead\n",
      "\n",
      "See the caveats in the documentation: http://pandas.pydata.org/pandas-docs/stable/indexing.html#indexing-view-versus-copy\n",
      "  df3['num_ticket_type'] = map(lambda X: len(X) if len(X) > 0 else None, df3['ticket_types'])\n",
      "JSON_to_DF.py:40: SettingWithCopyWarning: \n",
      "A value is trying to be set on a copy of a slice from a DataFrame.\n",
      "Try using .loc[row_indexer,col_indexer] = value instead\n",
      "\n",
      "See the caveats in the documentation: http://pandas.pydata.org/pandas-docs/stable/indexing.html#indexing-view-versus-copy\n",
      "  df3['median_ticket_cost'] = map(lambda X: median_ticket_cost(X), df3['ticket_types'])\n",
      "JSON_to_DF.py:41: SettingWithCopyWarning: \n",
      "A value is trying to be set on a copy of a slice from a DataFrame.\n",
      "Try using .loc[row_indexer,col_indexer] = value instead\n",
      "\n",
      "See the caveats in the documentation: http://pandas.pydata.org/pandas-docs/stable/indexing.html#indexing-view-versus-copy\n",
      "  df3['total_tickets_sold'] = map(lambda X: total_tickets_sold(X), df3['ticket_types'])\n",
      "JSON_to_DF.py:43: SettingWithCopyWarning: \n",
      "A value is trying to be set on a copy of a slice from a DataFrame.\n",
      "Try using .loc[row_indexer,col_indexer] = value instead\n",
      "\n",
      "See the caveats in the documentation: http://pandas.pydata.org/pandas-docs/stable/indexing.html#indexing-view-versus-copy\n",
      "  df3['nan_delivery_method'] = pd.isnull(df3['delivery_method'])\n",
      "JSON_to_DF.py:44: SettingWithCopyWarning: \n",
      "A value is trying to be set on a copy of a slice from a DataFrame.\n",
      "Try using .loc[row_indexer,col_indexer] = value instead\n",
      "\n",
      "See the caveats in the documentation: http://pandas.pydata.org/pandas-docs/stable/indexing.html#indexing-view-versus-copy\n",
      "  df3['nan_org_facebook'] = pd.isnull(df3['org_facebook'])\n",
      "JSON_to_DF.py:45: SettingWithCopyWarning: \n",
      "A value is trying to be set on a copy of a slice from a DataFrame.\n",
      "Try using .loc[row_indexer,col_indexer] = value instead\n",
      "\n",
      "See the caveats in the documentation: http://pandas.pydata.org/pandas-docs/stable/indexing.html#indexing-view-versus-copy\n",
      "  df3['nan_num_ticket_type'] = pd.isnull(df3['num_ticket_type'])\n",
      "JSON_to_DF.py:46: SettingWithCopyWarning: \n",
      "A value is trying to be set on a copy of a slice from a DataFrame.\n",
      "Try using .loc[row_indexer,col_indexer] = value instead\n",
      "\n",
      "See the caveats in the documentation: http://pandas.pydata.org/pandas-docs/stable/indexing.html#indexing-view-versus-copy\n",
      "  df3['nan_median_ticket_cost'] = pd.isnull(df3['median_ticket_cost'])\n",
      "JSON_to_DF.py:48: SettingWithCopyWarning: \n",
      "A value is trying to be set on a copy of a slice from a DataFrame.\n",
      "Try using .loc[row_indexer,col_indexer] = value instead\n",
      "\n",
      "See the caveats in the documentation: http://pandas.pydata.org/pandas-docs/stable/indexing.html#indexing-view-versus-copy\n",
      "  df3['payout_type'] = map(lambda x: x if x != '' else None, df3['payout_type'])\n",
      "JSON_to_DF.py:50: SettingWithCopyWarning: \n",
      "A value is trying to be set on a copy of a slice from a DataFrame.\n",
      "Try using .loc[row_indexer,col_indexer] = value instead\n",
      "\n",
      "See the caveats in the documentation: http://pandas.pydata.org/pandas-docs/stable/indexing.html#indexing-view-versus-copy\n",
      "  df3['payout_type'] = df3['payout_type'].fillna('MISSING')\n"
     ]
    },
    {
     "data": {
      "text/html": [
       "<div>\n",
       "<table border=\"1\" class=\"dataframe\">\n",
       "  <thead>\n",
       "    <tr style=\"text-align: right;\">\n",
       "      <th></th>\n",
       "      <th>channels</th>\n",
       "      <th>delivery_method</th>\n",
       "      <th>show_map</th>\n",
       "      <th>user_type</th>\n",
       "      <th>has_logo</th>\n",
       "      <th>org_facebook</th>\n",
       "      <th>sale_duration</th>\n",
       "      <th>sale_duration2</th>\n",
       "      <th>event_created_to_end</th>\n",
       "      <th>num_ticket_type</th>\n",
       "      <th>median_ticket_cost</th>\n",
       "      <th>total_tickets_sold</th>\n",
       "      <th>nan_delivery_method</th>\n",
       "      <th>nan_org_facebook</th>\n",
       "      <th>nan_num_ticket_type</th>\n",
       "      <th>nan_median_ticket_cost</th>\n",
       "      <th>payout_type_CHECK</th>\n",
       "      <th>payout_type_MISSING</th>\n",
       "    </tr>\n",
       "  </thead>\n",
       "  <tbody>\n",
       "    <tr>\n",
       "      <th>0</th>\n",
       "      <td>8</td>\n",
       "      <td>0.0</td>\n",
       "      <td>1</td>\n",
       "      <td>3</td>\n",
       "      <td>1</td>\n",
       "      <td>0.0</td>\n",
       "      <td>11.0</td>\n",
       "      <td>11</td>\n",
       "      <td>12</td>\n",
       "      <td>1</td>\n",
       "      <td>12.0</td>\n",
       "      <td>4</td>\n",
       "      <td>False</td>\n",
       "      <td>False</td>\n",
       "      <td>False</td>\n",
       "      <td>False</td>\n",
       "      <td>0</td>\n",
       "      <td>0</td>\n",
       "    </tr>\n",
       "  </tbody>\n",
       "</table>\n",
       "</div>"
      ],
      "text/plain": [
       "   channels  delivery_method  show_map  user_type  has_logo  org_facebook  sale_duration  sale_duration2  event_created_to_end  num_ticket_type  median_ticket_cost  total_tickets_sold nan_delivery_method nan_org_facebook nan_num_ticket_type nan_median_ticket_cost  payout_type_CHECK  payout_type_MISSING\n",
       "0         8              0.0         1          3         1           0.0           11.0              11                    12                1                12.0                   4               False            False               False                  False                  0                    0"
      ]
     },
     "execution_count": 6,
     "metadata": {},
     "output_type": "execute_result"
    }
   ],
   "source": [
    "query = clean_data(query_df)\n",
    "query.head()\n",
    "#predictions = clf.predict(query)"
   ]
  },
  {
   "cell_type": "code",
   "execution_count": 7,
   "metadata": {
    "collapsed": false
   },
   "outputs": [
    {
     "name": "stdout",
     "output_type": "stream",
     "text": [
      "<class 'pandas.core.frame.DataFrame'>\n",
      "RangeIndex: 1 entries, 0 to 0\n",
      "Data columns (total 18 columns):\n",
      "channels                  1 non-null int64\n",
      "delivery_method           1 non-null float64\n",
      "show_map                  1 non-null int64\n",
      "user_type                 1 non-null int64\n",
      "has_logo                  1 non-null int64\n",
      "org_facebook              1 non-null float64\n",
      "sale_duration             1 non-null float64\n",
      "sale_duration2            1 non-null int64\n",
      "event_created_to_end      1 non-null int64\n",
      "num_ticket_type           1 non-null int64\n",
      "median_ticket_cost        1 non-null float64\n",
      "total_tickets_sold        1 non-null int64\n",
      "nan_delivery_method       1 non-null bool\n",
      "nan_org_facebook          1 non-null bool\n",
      "nan_num_ticket_type       1 non-null bool\n",
      "nan_median_ticket_cost    1 non-null bool\n",
      "payout_type_CHECK         1 non-null int64\n",
      "payout_type_MISSING       1 non-null int64\n",
      "dtypes: bool(4), float64(4), int64(10)\n",
      "memory usage: 188.0 bytes\n"
     ]
    }
   ],
   "source": [
    "query.info()"
   ]
  },
  {
   "cell_type": "code",
   "execution_count": 10,
   "metadata": {
    "collapsed": false
   },
   "outputs": [],
   "source": [
    "predictions = clf.predict_proba(query.values)"
   ]
  },
  {
   "cell_type": "code",
   "execution_count": 11,
   "metadata": {
    "collapsed": false
   },
   "outputs": [
    {
     "data": {
      "text/plain": [
       "array([[ 0.99802911,  0.00197086]], dtype=float32)"
      ]
     },
     "execution_count": 11,
     "metadata": {},
     "output_type": "execute_result"
    }
   ],
   "source": [
    "predictions"
   ]
  },
  {
   "cell_type": "code",
   "execution_count": null,
   "metadata": {
    "collapsed": true
   },
   "outputs": [],
   "source": []
  }
 ],
 "metadata": {
  "anaconda-cloud": {},
  "kernelspec": {
   "display_name": "Python [conda root]",
   "language": "python",
   "name": "conda-root-py"
  },
  "language_info": {
   "codemirror_mode": {
    "name": "ipython",
    "version": 2
   },
   "file_extension": ".py",
   "mimetype": "text/x-python",
   "name": "python",
   "nbconvert_exporter": "python",
   "pygments_lexer": "ipython2",
   "version": "2.7.12"
  }
 },
 "nbformat": 4,
 "nbformat_minor": 2
}
